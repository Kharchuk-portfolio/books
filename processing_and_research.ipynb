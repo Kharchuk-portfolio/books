{
 "cells": [
  {
   "cell_type": "markdown",
   "metadata": {},
   "source": [
    "# Робота з даними"
   ]
  },
  {
   "cell_type": "markdown",
   "metadata": {},
   "source": [
    "1. Якою мовою написано найбільше книг?\n",
    "2. Яка книга має набільший рейтинг?\n",
    "3. Який автор має найбільший рейтинг?\n",
    "4. В якому році видано найбільше книг?\n",
    "5. Яке видавницто видало найбільше книг?\n",
    "6. Чи є вплив к-сть сторінок на рейтинг книги?\n",
    "7. Візуалізація розподілення рейтингу."
   ]
  },
  {
   "cell_type": "markdown",
   "metadata": {},
   "source": [
    "Імпорт необхідних бібіліотек"
   ]
  },
  {
   "cell_type": "code",
   "execution_count": 1,
   "metadata": {},
   "outputs": [],
   "source": [
    "import pandas as pd\n",
    "import numpy as np\n",
    "import matplotlib.pyplot as plt"
   ]
  },
  {
   "cell_type": "markdown",
   "metadata": {},
   "source": [
    "Читання файлу"
   ]
  },
  {
   "cell_type": "code",
   "execution_count": 2,
   "metadata": {},
   "outputs": [],
   "source": [
    "df = pd.read_csv('books.csv')"
   ]
  },
  {
   "cell_type": "markdown",
   "metadata": {},
   "source": [
    "## Обробка та аналіз даних"
   ]
  },
  {
   "cell_type": "markdown",
   "metadata": {},
   "source": [
    "Ознайомлення з данимим (вивід перших 3 рядків). "
   ]
  },
  {
   "cell_type": "code",
   "execution_count": 3,
   "metadata": {},
   "outputs": [
    {
     "data": {
      "text/html": [
       "<div>\n",
       "<style scoped>\n",
       "    .dataframe tbody tr th:only-of-type {\n",
       "        vertical-align: middle;\n",
       "    }\n",
       "\n",
       "    .dataframe tbody tr th {\n",
       "        vertical-align: top;\n",
       "    }\n",
       "\n",
       "    .dataframe thead th {\n",
       "        text-align: right;\n",
       "    }\n",
       "</style>\n",
       "<table border=\"1\" class=\"dataframe\">\n",
       "  <thead>\n",
       "    <tr style=\"text-align: right;\">\n",
       "      <th></th>\n",
       "      <th>Id</th>\n",
       "      <th>Name</th>\n",
       "      <th>ISBN</th>\n",
       "      <th>Authors</th>\n",
       "      <th>Language</th>\n",
       "      <th>pagesNumber</th>\n",
       "      <th>PublishYear</th>\n",
       "      <th>PublishMonth</th>\n",
       "      <th>PublishDay</th>\n",
       "      <th>Publisher</th>\n",
       "      <th>CountsOfReview</th>\n",
       "      <th>RatingDist1</th>\n",
       "      <th>RatingDist2</th>\n",
       "      <th>RatingDist3</th>\n",
       "      <th>RatingDist4</th>\n",
       "      <th>RatingDist5</th>\n",
       "      <th>RatingDistTotal</th>\n",
       "      <th>Rating</th>\n",
       "    </tr>\n",
       "  </thead>\n",
       "  <tbody>\n",
       "    <tr>\n",
       "      <th>0</th>\n",
       "      <td>1</td>\n",
       "      <td>Harry Potter and the Half-Blood Prince (Harry ...</td>\n",
       "      <td>NaN</td>\n",
       "      <td>J.K. Rowling</td>\n",
       "      <td>eng</td>\n",
       "      <td>652</td>\n",
       "      <td>2006</td>\n",
       "      <td>16</td>\n",
       "      <td>9</td>\n",
       "      <td>Scholastic Inc.</td>\n",
       "      <td>28062</td>\n",
       "      <td>1:9896</td>\n",
       "      <td>2:25317</td>\n",
       "      <td>3:159960</td>\n",
       "      <td>4:556485</td>\n",
       "      <td>5:1546466</td>\n",
       "      <td>total:2298124</td>\n",
       "      <td>4.57</td>\n",
       "    </tr>\n",
       "    <tr>\n",
       "      <th>1</th>\n",
       "      <td>2</td>\n",
       "      <td>Harry Potter and the Order of the Phoenix (Har...</td>\n",
       "      <td>0439358078</td>\n",
       "      <td>J.K. Rowling</td>\n",
       "      <td>eng</td>\n",
       "      <td>870</td>\n",
       "      <td>2004</td>\n",
       "      <td>1</td>\n",
       "      <td>9</td>\n",
       "      <td>Scholastic Inc.</td>\n",
       "      <td>29770</td>\n",
       "      <td>1:12455</td>\n",
       "      <td>2:37005</td>\n",
       "      <td>3:211781</td>\n",
       "      <td>4:604283</td>\n",
       "      <td>5:1493113</td>\n",
       "      <td>total:2358637</td>\n",
       "      <td>4.50</td>\n",
       "    </tr>\n",
       "    <tr>\n",
       "      <th>2</th>\n",
       "      <td>3</td>\n",
       "      <td>Harry Potter and the Sorcerer's Stone (Harry P...</td>\n",
       "      <td>NaN</td>\n",
       "      <td>J.K. Rowling</td>\n",
       "      <td>eng</td>\n",
       "      <td>309</td>\n",
       "      <td>2003</td>\n",
       "      <td>1</td>\n",
       "      <td>11</td>\n",
       "      <td>Scholastic Inc</td>\n",
       "      <td>75911</td>\n",
       "      <td>1:108202</td>\n",
       "      <td>2:130310</td>\n",
       "      <td>3:567458</td>\n",
       "      <td>4:1513191</td>\n",
       "      <td>5:4268227</td>\n",
       "      <td>total:6587388</td>\n",
       "      <td>4.47</td>\n",
       "    </tr>\n",
       "  </tbody>\n",
       "</table>\n",
       "</div>"
      ],
      "text/plain": [
       "   Id                                               Name        ISBN  \\\n",
       "0   1  Harry Potter and the Half-Blood Prince (Harry ...         NaN   \n",
       "1   2  Harry Potter and the Order of the Phoenix (Har...  0439358078   \n",
       "2   3  Harry Potter and the Sorcerer's Stone (Harry P...         NaN   \n",
       "\n",
       "        Authors Language  pagesNumber  PublishYear  PublishMonth  PublishDay  \\\n",
       "0  J.K. Rowling      eng          652         2006            16           9   \n",
       "1  J.K. Rowling      eng          870         2004             1           9   \n",
       "2  J.K. Rowling      eng          309         2003             1          11   \n",
       "\n",
       "         Publisher  CountsOfReview RatingDist1 RatingDist2 RatingDist3  \\\n",
       "0  Scholastic Inc.           28062      1:9896     2:25317    3:159960   \n",
       "1  Scholastic Inc.           29770     1:12455     2:37005    3:211781   \n",
       "2   Scholastic Inc           75911    1:108202    2:130310    3:567458   \n",
       "\n",
       "  RatingDist4 RatingDist5 RatingDistTotal  Rating  \n",
       "0    4:556485   5:1546466   total:2298124    4.57  \n",
       "1    4:604283   5:1493113   total:2358637    4.50  \n",
       "2   4:1513191   5:4268227   total:6587388    4.47  "
      ]
     },
     "execution_count": 3,
     "metadata": {},
     "output_type": "execute_result"
    }
   ],
   "source": [
    "df.head(3)"
   ]
  },
  {
   "cell_type": "markdown",
   "metadata": {},
   "source": [
    "Змінемо тип даних в стовпцях RatingDist1, RatingDist2 і т.д."
   ]
  },
  {
   "cell_type": "code",
   "execution_count": 4,
   "metadata": {},
   "outputs": [],
   "source": [
    "columns = ['RatingDist1', 'RatingDist2', 'RatingDist3', 'RatingDist4', 'RatingDist5', 'RatingDistTotal']\n",
    "df[columns] = df[columns].applymap(lambda x: int(x.split(':')[-1]))"
   ]
  },
  {
   "cell_type": "markdown",
   "metadata": {},
   "source": [
    "Перевіряємо чи є дублікати"
   ]
  },
  {
   "cell_type": "markdown",
   "metadata": {},
   "source": [
    "Скільки унікальних книг (назв) маємо? (результатом є число меньше за загальну к-сть)"
   ]
  },
  {
   "cell_type": "code",
   "execution_count": 5,
   "metadata": {},
   "outputs": [
    {
     "data": {
      "text/plain": [
       "569542"
      ]
     },
     "execution_count": 5,
     "metadata": {},
     "output_type": "execute_result"
    }
   ],
   "source": [
    "df['Name'].nunique()"
   ]
  },
  {
   "cell_type": "markdown",
   "metadata": {},
   "source": [
    "Які дублікати у колонці назва?"
   ]
  },
  {
   "cell_type": "code",
   "execution_count": 6,
   "metadata": {},
   "outputs": [
    {
     "data": {
      "text/html": [
       "<div>\n",
       "<style scoped>\n",
       "    .dataframe tbody tr th:only-of-type {\n",
       "        vertical-align: middle;\n",
       "    }\n",
       "\n",
       "    .dataframe tbody tr th {\n",
       "        vertical-align: top;\n",
       "    }\n",
       "\n",
       "    .dataframe thead th {\n",
       "        text-align: right;\n",
       "    }\n",
       "</style>\n",
       "<table border=\"1\" class=\"dataframe\">\n",
       "  <thead>\n",
       "    <tr style=\"text-align: right;\">\n",
       "      <th></th>\n",
       "      <th>Id</th>\n",
       "      <th>Name</th>\n",
       "      <th>ISBN</th>\n",
       "      <th>Authors</th>\n",
       "      <th>Language</th>\n",
       "      <th>pagesNumber</th>\n",
       "      <th>PublishYear</th>\n",
       "      <th>PublishMonth</th>\n",
       "      <th>PublishDay</th>\n",
       "      <th>Publisher</th>\n",
       "      <th>CountsOfReview</th>\n",
       "      <th>RatingDist1</th>\n",
       "      <th>RatingDist2</th>\n",
       "      <th>RatingDist3</th>\n",
       "      <th>RatingDist4</th>\n",
       "      <th>RatingDist5</th>\n",
       "      <th>RatingDistTotal</th>\n",
       "      <th>Rating</th>\n",
       "    </tr>\n",
       "  </thead>\n",
       "  <tbody>\n",
       "    <tr>\n",
       "      <th>466382</th>\n",
       "      <td>18834</td>\n",
       "      <td>\"Believing Women\" in Islam: Unreading Patriarc...</td>\n",
       "      <td>8121511518</td>\n",
       "      <td>Asma Barlas</td>\n",
       "      <td>eng</td>\n",
       "      <td>254</td>\n",
       "      <td>2005</td>\n",
       "      <td>1</td>\n",
       "      <td>5</td>\n",
       "      <td>SAMA</td>\n",
       "      <td>1</td>\n",
       "      <td>37</td>\n",
       "      <td>43</td>\n",
       "      <td>145</td>\n",
       "      <td>272</td>\n",
       "      <td>644</td>\n",
       "      <td>1141</td>\n",
       "      <td>4.26</td>\n",
       "    </tr>\n",
       "    <tr>\n",
       "      <th>299739</th>\n",
       "      <td>16479</td>\n",
       "      <td>\"Believing Women\" in Islam: Unreading Patriarc...</td>\n",
       "      <td>0292709048</td>\n",
       "      <td>Asma Barlas</td>\n",
       "      <td>eng</td>\n",
       "      <td>272</td>\n",
       "      <td>2002</td>\n",
       "      <td>15</td>\n",
       "      <td>6</td>\n",
       "      <td>University of Texas Press</td>\n",
       "      <td>35</td>\n",
       "      <td>35</td>\n",
       "      <td>43</td>\n",
       "      <td>146</td>\n",
       "      <td>272</td>\n",
       "      <td>641</td>\n",
       "      <td>1137</td>\n",
       "      <td>4.27</td>\n",
       "    </tr>\n",
       "    <tr>\n",
       "      <th>597615</th>\n",
       "      <td>19629</td>\n",
       "      <td>\"Fire! Fire!\" Said Mrs. McGuire</td>\n",
       "      <td>0152275622</td>\n",
       "      <td>Bill Martin Jr.</td>\n",
       "      <td>NaN</td>\n",
       "      <td>32</td>\n",
       "      <td>1996</td>\n",
       "      <td>1</td>\n",
       "      <td>3</td>\n",
       "      <td>HMH Books for Young Readers</td>\n",
       "      <td>0</td>\n",
       "      <td>14</td>\n",
       "      <td>30</td>\n",
       "      <td>56</td>\n",
       "      <td>27</td>\n",
       "      <td>26</td>\n",
       "      <td>153</td>\n",
       "      <td>3.14</td>\n",
       "    </tr>\n",
       "    <tr>\n",
       "      <th>219423</th>\n",
       "      <td>47904</td>\n",
       "      <td>\"Fire! Fire!\" Said Mrs. McGuire</td>\n",
       "      <td>0152057250</td>\n",
       "      <td>Bill Martin Jr.</td>\n",
       "      <td>NaN</td>\n",
       "      <td>32</td>\n",
       "      <td>2006</td>\n",
       "      <td>1</td>\n",
       "      <td>5</td>\n",
       "      <td>HMH Books for Young Readers</td>\n",
       "      <td>5</td>\n",
       "      <td>14</td>\n",
       "      <td>30</td>\n",
       "      <td>56</td>\n",
       "      <td>27</td>\n",
       "      <td>26</td>\n",
       "      <td>153</td>\n",
       "      <td>3.14</td>\n",
       "    </tr>\n",
       "    <tr>\n",
       "      <th>351302</th>\n",
       "      <td>13183</td>\n",
       "      <td>\"I'm, Like, SO Fat!\": Helping Your Teen Make H...</td>\n",
       "      <td>1572309806</td>\n",
       "      <td>Dianne Neumark-Sztainer</td>\n",
       "      <td>NaN</td>\n",
       "      <td>316</td>\n",
       "      <td>2005</td>\n",
       "      <td>8</td>\n",
       "      <td>6</td>\n",
       "      <td>The Guilford Press</td>\n",
       "      <td>2</td>\n",
       "      <td>0</td>\n",
       "      <td>1</td>\n",
       "      <td>3</td>\n",
       "      <td>4</td>\n",
       "      <td>10</td>\n",
       "      <td>18</td>\n",
       "      <td>4.28</td>\n",
       "    </tr>\n",
       "    <tr>\n",
       "      <th>...</th>\n",
       "      <td>...</td>\n",
       "      <td>...</td>\n",
       "      <td>...</td>\n",
       "      <td>...</td>\n",
       "      <td>...</td>\n",
       "      <td>...</td>\n",
       "      <td>...</td>\n",
       "      <td>...</td>\n",
       "      <td>...</td>\n",
       "      <td>...</td>\n",
       "      <td>...</td>\n",
       "      <td>...</td>\n",
       "      <td>...</td>\n",
       "      <td>...</td>\n",
       "      <td>...</td>\n",
       "      <td>...</td>\n",
       "      <td>...</td>\n",
       "      <td>...</td>\n",
       "    </tr>\n",
       "    <tr>\n",
       "      <th>247574</th>\n",
       "      <td>19469</td>\n",
       "      <td>天龍八部（一）</td>\n",
       "      <td>9573255731</td>\n",
       "      <td>Jin Yong (金庸)</td>\n",
       "      <td>zho</td>\n",
       "      <td>474</td>\n",
       "      <td>2005</td>\n",
       "      <td>16</td>\n",
       "      <td>9</td>\n",
       "      <td>遠流出版事業股份有限公司</td>\n",
       "      <td>2</td>\n",
       "      <td>2</td>\n",
       "      <td>3</td>\n",
       "      <td>7</td>\n",
       "      <td>20</td>\n",
       "      <td>63</td>\n",
       "      <td>95</td>\n",
       "      <td>4.46</td>\n",
       "    </tr>\n",
       "    <tr>\n",
       "      <th>112620</th>\n",
       "      <td>54329</td>\n",
       "      <td>天龍八部（三）</td>\n",
       "      <td>9573229358</td>\n",
       "      <td>Jin Yong (金庸)</td>\n",
       "      <td>zho</td>\n",
       "      <td>448</td>\n",
       "      <td>1996</td>\n",
       "      <td>16</td>\n",
       "      <td>12</td>\n",
       "      <td>遠流出版事業股份有限公司</td>\n",
       "      <td>0</td>\n",
       "      <td>0</td>\n",
       "      <td>1</td>\n",
       "      <td>1</td>\n",
       "      <td>10</td>\n",
       "      <td>35</td>\n",
       "      <td>47</td>\n",
       "      <td>4.68</td>\n",
       "    </tr>\n",
       "    <tr>\n",
       "      <th>357362</th>\n",
       "      <td>19243</td>\n",
       "      <td>天龍八部（三）</td>\n",
       "      <td>9573255758</td>\n",
       "      <td>Jin Yong (金庸)</td>\n",
       "      <td>zho</td>\n",
       "      <td>464</td>\n",
       "      <td>2005</td>\n",
       "      <td>16</td>\n",
       "      <td>9</td>\n",
       "      <td>遠流出版事業股份有限公司</td>\n",
       "      <td>0</td>\n",
       "      <td>0</td>\n",
       "      <td>1</td>\n",
       "      <td>1</td>\n",
       "      <td>10</td>\n",
       "      <td>35</td>\n",
       "      <td>47</td>\n",
       "      <td>4.68</td>\n",
       "    </tr>\n",
       "    <tr>\n",
       "      <th>247576</th>\n",
       "      <td>19471</td>\n",
       "      <td>天龍八部（四）</td>\n",
       "      <td>9573255766</td>\n",
       "      <td>Jin Yong (金庸)</td>\n",
       "      <td>zho</td>\n",
       "      <td>426</td>\n",
       "      <td>2005</td>\n",
       "      <td>16</td>\n",
       "      <td>9</td>\n",
       "      <td>遠流出版事業股份有限公司</td>\n",
       "      <td>0</td>\n",
       "      <td>1</td>\n",
       "      <td>2</td>\n",
       "      <td>1</td>\n",
       "      <td>16</td>\n",
       "      <td>53</td>\n",
       "      <td>73</td>\n",
       "      <td>4.62</td>\n",
       "    </tr>\n",
       "    <tr>\n",
       "      <th>112618</th>\n",
       "      <td>54327</td>\n",
       "      <td>天龍八部（四）</td>\n",
       "      <td>9573229366</td>\n",
       "      <td>Jin Yong (金庸)</td>\n",
       "      <td>zho</td>\n",
       "      <td>416</td>\n",
       "      <td>1996</td>\n",
       "      <td>16</td>\n",
       "      <td>12</td>\n",
       "      <td>遠流出版事業股份有限公司</td>\n",
       "      <td>3</td>\n",
       "      <td>1</td>\n",
       "      <td>2</td>\n",
       "      <td>1</td>\n",
       "      <td>16</td>\n",
       "      <td>53</td>\n",
       "      <td>73</td>\n",
       "      <td>4.62</td>\n",
       "    </tr>\n",
       "  </tbody>\n",
       "</table>\n",
       "<p>87116 rows × 18 columns</p>\n",
       "</div>"
      ],
      "text/plain": [
       "           Id                                               Name        ISBN  \\\n",
       "466382  18834  \"Believing Women\" in Islam: Unreading Patriarc...  8121511518   \n",
       "299739  16479  \"Believing Women\" in Islam: Unreading Patriarc...  0292709048   \n",
       "597615  19629                    \"Fire! Fire!\" Said Mrs. McGuire  0152275622   \n",
       "219423  47904                    \"Fire! Fire!\" Said Mrs. McGuire  0152057250   \n",
       "351302  13183  \"I'm, Like, SO Fat!\": Helping Your Teen Make H...  1572309806   \n",
       "...       ...                                                ...         ...   \n",
       "247574  19469                                            天龍八部（一）  9573255731   \n",
       "112620  54329                                            天龍八部（三）  9573229358   \n",
       "357362  19243                                            天龍八部（三）  9573255758   \n",
       "247576  19471                                            天龍八部（四）  9573255766   \n",
       "112618  54327                                            天龍八部（四）  9573229366   \n",
       "\n",
       "                        Authors Language  pagesNumber  PublishYear  \\\n",
       "466382              Asma Barlas      eng          254         2005   \n",
       "299739              Asma Barlas      eng          272         2002   \n",
       "597615          Bill Martin Jr.      NaN           32         1996   \n",
       "219423          Bill Martin Jr.      NaN           32         2006   \n",
       "351302  Dianne Neumark-Sztainer      NaN          316         2005   \n",
       "...                         ...      ...          ...          ...   \n",
       "247574            Jin Yong (金庸)      zho          474         2005   \n",
       "112620            Jin Yong (金庸)      zho          448         1996   \n",
       "357362            Jin Yong (金庸)      zho          464         2005   \n",
       "247576            Jin Yong (金庸)      zho          426         2005   \n",
       "112618            Jin Yong (金庸)      zho          416         1996   \n",
       "\n",
       "        PublishMonth  PublishDay                    Publisher  CountsOfReview  \\\n",
       "466382             1           5                         SAMA               1   \n",
       "299739            15           6    University of Texas Press              35   \n",
       "597615             1           3  HMH Books for Young Readers               0   \n",
       "219423             1           5  HMH Books for Young Readers               5   \n",
       "351302             8           6           The Guilford Press               2   \n",
       "...              ...         ...                          ...             ...   \n",
       "247574            16           9                 遠流出版事業股份有限公司               2   \n",
       "112620            16          12                 遠流出版事業股份有限公司               0   \n",
       "357362            16           9                 遠流出版事業股份有限公司               0   \n",
       "247576            16           9                 遠流出版事業股份有限公司               0   \n",
       "112618            16          12                 遠流出版事業股份有限公司               3   \n",
       "\n",
       "        RatingDist1  RatingDist2  RatingDist3  RatingDist4  RatingDist5  \\\n",
       "466382           37           43          145          272          644   \n",
       "299739           35           43          146          272          641   \n",
       "597615           14           30           56           27           26   \n",
       "219423           14           30           56           27           26   \n",
       "351302            0            1            3            4           10   \n",
       "...             ...          ...          ...          ...          ...   \n",
       "247574            2            3            7           20           63   \n",
       "112620            0            1            1           10           35   \n",
       "357362            0            1            1           10           35   \n",
       "247576            1            2            1           16           53   \n",
       "112618            1            2            1           16           53   \n",
       "\n",
       "        RatingDistTotal  Rating  \n",
       "466382             1141    4.26  \n",
       "299739             1137    4.27  \n",
       "597615              153    3.14  \n",
       "219423              153    3.14  \n",
       "351302               18    4.28  \n",
       "...                 ...     ...  \n",
       "247574               95    4.46  \n",
       "112620               47    4.68  \n",
       "357362               47    4.68  \n",
       "247576               73    4.62  \n",
       "112618               73    4.62  \n",
       "\n",
       "[87116 rows x 18 columns]"
      ]
     },
     "execution_count": 6,
     "metadata": {},
     "output_type": "execute_result"
    }
   ],
   "source": [
    "df[df['Name'].duplicated(keep = False)].sort_values('Name')"
   ]
  },
  {
   "cell_type": "markdown",
   "metadata": {},
   "source": [
    "Дублікати по назві - книги видані в різні роки різними видавництвами."
   ]
  },
  {
   "cell_type": "markdown",
   "metadata": {},
   "source": [
    "Чи є дублікати по всім стовпцям? (ні)"
   ]
  },
  {
   "cell_type": "code",
   "execution_count": 7,
   "metadata": {},
   "outputs": [
    {
     "data": {
      "text/html": [
       "<div>\n",
       "<style scoped>\n",
       "    .dataframe tbody tr th:only-of-type {\n",
       "        vertical-align: middle;\n",
       "    }\n",
       "\n",
       "    .dataframe tbody tr th {\n",
       "        vertical-align: top;\n",
       "    }\n",
       "\n",
       "    .dataframe thead th {\n",
       "        text-align: right;\n",
       "    }\n",
       "</style>\n",
       "<table border=\"1\" class=\"dataframe\">\n",
       "  <thead>\n",
       "    <tr style=\"text-align: right;\">\n",
       "      <th></th>\n",
       "      <th>Id</th>\n",
       "      <th>Name</th>\n",
       "      <th>ISBN</th>\n",
       "      <th>Authors</th>\n",
       "      <th>Language</th>\n",
       "      <th>pagesNumber</th>\n",
       "      <th>PublishYear</th>\n",
       "      <th>PublishMonth</th>\n",
       "      <th>PublishDay</th>\n",
       "      <th>Publisher</th>\n",
       "      <th>CountsOfReview</th>\n",
       "      <th>RatingDist1</th>\n",
       "      <th>RatingDist2</th>\n",
       "      <th>RatingDist3</th>\n",
       "      <th>RatingDist4</th>\n",
       "      <th>RatingDist5</th>\n",
       "      <th>RatingDistTotal</th>\n",
       "      <th>Rating</th>\n",
       "    </tr>\n",
       "  </thead>\n",
       "  <tbody>\n",
       "  </tbody>\n",
       "</table>\n",
       "</div>"
      ],
      "text/plain": [
       "Empty DataFrame\n",
       "Columns: [Id, Name, ISBN, Authors, Language, pagesNumber, PublishYear, PublishMonth, PublishDay, Publisher, CountsOfReview, RatingDist1, RatingDist2, RatingDist3, RatingDist4, RatingDist5, RatingDistTotal, Rating]\n",
       "Index: []"
      ]
     },
     "execution_count": 7,
     "metadata": {},
     "output_type": "execute_result"
    }
   ],
   "source": [
    "df[df.duplicated(keep = False)]"
   ]
  },
  {
   "cell_type": "markdown",
   "metadata": {},
   "source": [
    "Пошук пропущених значень"
   ]
  },
  {
   "cell_type": "code",
   "execution_count": 5,
   "metadata": {},
   "outputs": [
    {
     "name": "stdout",
     "output_type": "stream",
     "text": [
      "Пропущених значень: (496552, 18)\n",
      "Всього даних: (619879, 18)\n"
     ]
    }
   ],
   "source": [
    "df_na = df[df.isna().any(axis=1)]\n",
    "print(f\"Пропущених значень: {df_na.shape}\")\n",
    "print(f\"Всього даних: {df.shape}\")"
   ]
  },
  {
   "cell_type": "markdown",
   "metadata": {},
   "source": [
    "Бачимо, що це дуже багато значень."
   ]
  },
  {
   "cell_type": "markdown",
   "metadata": {},
   "source": [
    "Яких даних найбільше пропущено? (зробимо візуалізацію для більшої наглядності)"
   ]
  },
  {
   "cell_type": "code",
   "execution_count": 6,
   "metadata": {},
   "outputs": [
    {
     "data": {
      "image/png": "[encoded data removed]",
      "text/plain": [
       "<Figure size 640x480 with 1 Axes>"
      ]
     },
     "metadata": {},
     "output_type": "display_data"
    }
   ],
   "source": [
    "df.isna().sum().plot(kind='bar', color='red')\n",
    "plt.title('The missing values')\n",
    "plt.grid()\n",
    "plt.show()"
   ]
  },
  {
   "cell_type": "markdown",
   "metadata": {},
   "source": [
    "Описові статистики для PublishYear, PublishMonth та PublishDay."
   ]
  },
  {
   "cell_type": "code",
   "execution_count": 10,
   "metadata": {},
   "outputs": [
    {
     "data": {
      "text/html": [
       "<div>\n",
       "<style scoped>\n",
       "    .dataframe tbody tr th:only-of-type {\n",
       "        vertical-align: middle;\n",
       "    }\n",
       "\n",
       "    .dataframe tbody tr th {\n",
       "        vertical-align: top;\n",
       "    }\n",
       "\n",
       "    .dataframe thead th {\n",
       "        text-align: right;\n",
       "    }\n",
       "</style>\n",
       "<table border=\"1\" class=\"dataframe\">\n",
       "  <thead>\n",
       "    <tr style=\"text-align: right;\">\n",
       "      <th></th>\n",
       "      <th>PublishYear</th>\n",
       "      <th>PublishMonth</th>\n",
       "      <th>PublishDay</th>\n",
       "    </tr>\n",
       "  </thead>\n",
       "  <tbody>\n",
       "    <tr>\n",
       "      <th>count</th>\n",
       "      <td>619879.000000</td>\n",
       "      <td>619879.000000</td>\n",
       "      <td>619879.000000</td>\n",
       "    </tr>\n",
       "    <tr>\n",
       "      <th>mean</th>\n",
       "      <td>1998.894339</td>\n",
       "      <td>9.809442</td>\n",
       "      <td>6.315576</td>\n",
       "    </tr>\n",
       "    <tr>\n",
       "      <th>std</th>\n",
       "      <td>34.041822</td>\n",
       "      <td>10.350946</td>\n",
       "      <td>3.606491</td>\n",
       "    </tr>\n",
       "    <tr>\n",
       "      <th>min</th>\n",
       "      <td>162.000000</td>\n",
       "      <td>1.000000</td>\n",
       "      <td>1.000000</td>\n",
       "    </tr>\n",
       "    <tr>\n",
       "      <th>25%</th>\n",
       "      <td>1995.000000</td>\n",
       "      <td>1.000000</td>\n",
       "      <td>3.000000</td>\n",
       "    </tr>\n",
       "    <tr>\n",
       "      <th>50%</th>\n",
       "      <td>2001.000000</td>\n",
       "      <td>4.000000</td>\n",
       "      <td>6.000000</td>\n",
       "    </tr>\n",
       "    <tr>\n",
       "      <th>75%</th>\n",
       "      <td>2005.000000</td>\n",
       "      <td>18.000000</td>\n",
       "      <td>9.000000</td>\n",
       "    </tr>\n",
       "    <tr>\n",
       "      <th>max</th>\n",
       "      <td>20040.000000</td>\n",
       "      <td>31.000000</td>\n",
       "      <td>12.000000</td>\n",
       "    </tr>\n",
       "  </tbody>\n",
       "</table>\n",
       "</div>"
      ],
      "text/plain": [
       "         PublishYear   PublishMonth     PublishDay\n",
       "count  619879.000000  619879.000000  619879.000000\n",
       "mean     1998.894339       9.809442       6.315576\n",
       "std        34.041822      10.350946       3.606491\n",
       "min       162.000000       1.000000       1.000000\n",
       "25%      1995.000000       1.000000       3.000000\n",
       "50%      2001.000000       4.000000       6.000000\n",
       "75%      2005.000000      18.000000       9.000000\n",
       "max     20040.000000      31.000000      12.000000"
      ]
     },
     "execution_count": 10,
     "metadata": {},
     "output_type": "execute_result"
    }
   ],
   "source": [
    "df[['PublishYear', 'PublishMonth', 'PublishDay']].describe()"
   ]
  },
  {
   "cell_type": "markdown",
   "metadata": {},
   "source": [
    "Бачимо переплутані день та місяць, змінюємо їх і ще обмежуємо роки."
   ]
  },
  {
   "cell_type": "code",
   "execution_count": 7,
   "metadata": {},
   "outputs": [],
   "source": [
    "df['PublishMonth'], df['PublishDay'] = df['PublishDay'], df['PublishMonth']\n",
    "df.drop((df[(df['PublishYear'] < 1800) | (df['PublishYear'] > 2023)].index).tolist(), inplace = True)"
   ]
  },
  {
   "cell_type": "markdown",
   "metadata": {},
   "source": [
    "Як записані мови?"
   ]
  },
  {
   "cell_type": "code",
   "execution_count": 8,
   "metadata": {},
   "outputs": [
    {
     "data": {
      "text/plain": [
       "array(['eng', 'en-US', nan, 'fre', 'spa', 'mul', 'en-GB', 'grc', 'enm',\n",
       "       'en-CA', 'ger', 'jpn', 'ara', 'nl', 'zho', 'lat', 'por', 'srp',\n",
       "       'ita', 'rus', 'msa', 'glg', 'wel', 'swe', 'nor', 'kor', 'tur',\n",
       "       'gla', 'lit', 'per', 'pol', 'gle', 'cat', 'afr', 'ind', 'frs',\n",
       "       'sco', 'nav', 'myn', 'gre', 'urd', 'elx', '--', 'cze', 'tlh',\n",
       "       'ang', 'hin', 'raj', 'nub', 'fin', 'dan', 'heb', 'ypk', 'lao',\n",
       "       'hye', 'fil', 'frm', 'tgl', 'wak', 'tam', 'scr', 'hun', 'guj',\n",
       "       'chp', 'tha', 'eus', 'rum', 'fan', 'est', 'epo', 'nqo'],\n",
       "      dtype=object)"
      ]
     },
     "execution_count": 8,
     "metadata": {},
     "output_type": "execute_result"
    }
   ],
   "source": [
    "df['Language'].unique()"
   ]
  },
  {
   "cell_type": "markdown",
   "metadata": {},
   "source": [
    "Зробимо всі у одному форматі (з 'en-US', 'en-GB', 'en-CA' в 'eng', а 'nl' - 'nld')."
   ]
  },
  {
   "cell_type": "code",
   "execution_count": 9,
   "metadata": {},
   "outputs": [],
   "source": [
    "df['Language'] = df['Language'].str.replace('en-US', 'eng').str.replace('en-GB', 'eng').str.replace('en-CA', 'eng').str.replace('nl', 'nld')"
   ]
  },
  {
   "cell_type": "markdown",
   "metadata": {},
   "source": [
    "Описові статиски для рейтингу."
   ]
  },
  {
   "cell_type": "code",
   "execution_count": 10,
   "metadata": {},
   "outputs": [
    {
     "data": {
      "text/plain": [
       "count    619865.000000\n",
       "mean          3.443591\n",
       "std           1.285951\n",
       "min           0.000000\n",
       "25%           3.460000\n",
       "50%           3.840000\n",
       "75%           4.100000\n",
       "max           5.000000\n",
       "Name: Rating, dtype: float64"
      ]
     },
     "execution_count": 10,
     "metadata": {},
     "output_type": "execute_result"
    }
   ],
   "source": [
    "df['Rating'].describe()"
   ]
  },
  {
   "cell_type": "markdown",
   "metadata": {},
   "source": [
    "Яка к-сть книг припадає на кожний діапазон рейтингу? (візуалізація)"
   ]
  },
  {
   "cell_type": "code",
   "execution_count": 11,
   "metadata": {},
   "outputs": [
    {
     "data": {
      "image/png": "[encoded data removed]",
      "text/plain": [
       "<Figure size 640x480 with 1 Axes>"
      ]
     },
     "metadata": {},
     "output_type": "display_data"
    }
   ],
   "source": [
    "plt.hist(df['Rating'], bins=15, color='purple')\n",
    "plt.xlabel('Rating')\n",
    "plt.ylabel('Count')\n",
    "plt.show()"
   ]
  },
  {
   "cell_type": "markdown",
   "metadata": {},
   "source": [
    "Описові статистики для к-сті сторінок."
   ]
  },
  {
   "cell_type": "code",
   "execution_count": 12,
   "metadata": {},
   "outputs": [
    {
     "data": {
      "text/plain": [
       "count    6.198650e+05\n",
       "mean     2.789696e+02\n",
       "std      2.892091e+03\n",
       "min      0.000000e+00\n",
       "25%      1.540000e+02\n",
       "50%      2.430000e+02\n",
       "75%      3.440000e+02\n",
       "max      2.254246e+06\n",
       "Name: pagesNumber, dtype: float64"
      ]
     },
     "execution_count": 12,
     "metadata": {},
     "output_type": "execute_result"
    }
   ],
   "source": [
    "df['pagesNumber'].describe()"
   ]
  },
  {
   "cell_type": "markdown",
   "metadata": {},
   "source": [
    "## Дослідження даних\n"
   ]
  },
  {
   "cell_type": "markdown",
   "metadata": {},
   "source": [
    "1. Якою мовою написано найбільше книг?"
   ]
  },
  {
   "cell_type": "code",
   "execution_count": 13,
   "metadata": {},
   "outputs": [
    {
     "data": {
      "text/plain": [
       "'eng'"
      ]
     },
     "execution_count": 13,
     "metadata": {},
     "output_type": "execute_result"
    }
   ],
   "source": [
    "df['Language'].value_counts().index[0]"
   ]
  },
  {
   "cell_type": "markdown",
   "metadata": {},
   "source": [
    "Подивимось топ 5 мов."
   ]
  },
  {
   "cell_type": "code",
   "execution_count": 14,
   "metadata": {},
   "outputs": [
    {
     "data": {
      "text/plain": [
       "Language\n",
       "eng    115502\n",
       "fre      3991\n",
       "spa      2962\n",
       "ger      2384\n",
       "ita       249\n",
       "Name: count, dtype: int64"
      ]
     },
     "execution_count": 14,
     "metadata": {},
     "output_type": "execute_result"
    }
   ],
   "source": [
    "df['Language'].value_counts().head(5)"
   ]
  },
  {
   "cell_type": "markdown",
   "metadata": {},
   "source": [
    "2. Яка книга має найбільший рейтинг?"
   ]
  },
  {
   "cell_type": "code",
   "execution_count": 15,
   "metadata": {},
   "outputs": [
    {
     "data": {
      "text/plain": [
       "230                         A Colorful Symphony: Full Score\n",
       "238                           Bullets, Badges, and Bullshit\n",
       "276       New York Trilogy: New York Underground, Trappe...\n",
       "320       21st Century Mysteries: Nikola Tesla: Federal ...\n",
       "501                                   The Guitar Chord Deck\n",
       "                                ...                        \n",
       "619671    A Rapid Assessment of the Humid Forests of Sou...\n",
       "619746    Democritus: Science, The Arts, And The Care Of...\n",
       "619747                                 The Brancacci Chapel\n",
       "619798    Off Your Rocker!: Ultimate Guide for Grandparents\n",
       "619874    Family: Everyday Stories About the Miracle of ...\n",
       "Name: Name, Length: 18235, dtype: object"
      ]
     },
     "execution_count": 15,
     "metadata": {},
     "output_type": "execute_result"
    }
   ],
   "source": [
    "df['Name'][df['Rating'] == df['Rating'].max()]"
   ]
  },
  {
   "cell_type": "markdown",
   "metadata": {},
   "source": [
    "Бачимо, що даних забагато. Тому зробимо більш релевантно, та додамо умову, що оцінок більше 1000."
   ]
  },
  {
   "cell_type": "code",
   "execution_count": 155,
   "metadata": {},
   "outputs": [
    {
     "data": {
      "text/plain": [
       "Series([], Name: Name, dtype: object)"
      ]
     },
     "execution_count": 155,
     "metadata": {},
     "output_type": "execute_result"
    }
   ],
   "source": [
    "df['Name'][(df['Rating'] == df['Rating'].max()) & (df['RatingDistTotal'] > 1000)]"
   ]
  },
  {
   "cell_type": "markdown",
   "metadata": {},
   "source": [
    "Таких книг немає, тому подивимось, яка книга має найбільшу кількість оцінок 5."
   ]
  },
  {
   "cell_type": "code",
   "execution_count": 156,
   "metadata": {},
   "outputs": [
    {
     "data": {
      "text/plain": [
       "594197    Harry Potter à l'école des sorciers (Harry Pot...\n",
       "Name: Name, dtype: object"
      ]
     },
     "execution_count": 156,
     "metadata": {},
     "output_type": "execute_result"
    }
   ],
   "source": [
    "df['Name'][df['RatingDist5'] == df['RatingDist5'].max()]"
   ]
  },
  {
   "cell_type": "markdown",
   "metadata": {},
   "source": [
    "Цікаво, скільки всього книг про Гаррі Потера в нашому датасеті. Знайдемо всі книги про Гаррі Потера."
   ]
  },
  {
   "cell_type": "code",
   "execution_count": 213,
   "metadata": {},
   "outputs": [
    {
     "data": {
      "text/plain": [
       "0         Harry Potter and the Half-Blood Prince (Harry ...\n",
       "1         Harry Potter and the Order of the Phoenix (Har...\n",
       "2         Harry Potter and the Sorcerer's Stone (Harry P...\n",
       "3         Harry Potter and the Chamber of Secrets (Harry...\n",
       "4         Harry Potter and the Prisoner of Azkaban (Harr...\n",
       "                                ...                        \n",
       "588044    Harry Potter et L'Ordre du Phenix (Harry Potte...\n",
       "588826      Harry Potter i Zakon Feniksa (Harry Potter, #5)\n",
       "589281        Harry Potter i Czara Ognia (Harry Potter, #4)\n",
       "594197    Harry Potter à l'école des sorciers (Harry Pot...\n",
       "599041    Beatrix Potter To Harry Potter: Portraits Of C...\n",
       "Name: Name, Length: 166, dtype: object"
      ]
     },
     "execution_count": 213,
     "metadata": {},
     "output_type": "execute_result"
    }
   ],
   "source": [
    "df['Name'][df['Name'].str.contains('Harry Potter')].drop_duplicates()"
   ]
  },
  {
   "cell_type": "markdown",
   "metadata": {},
   "source": [
    "Книг багато, так як вони різними мовами."
   ]
  },
  {
   "cell_type": "markdown",
   "metadata": {},
   "source": [
    "3. Який автор має найбільший рейтинг?"
   ]
  },
  {
   "cell_type": "code",
   "execution_count": 16,
   "metadata": {},
   "outputs": [
    {
     "data": {
      "text/plain": [
       "594197    J.K. Rowling\n",
       "Name: Authors, dtype: object"
      ]
     },
     "execution_count": 16,
     "metadata": {},
     "output_type": "execute_result"
    }
   ],
   "source": [
    "df['Authors'][df['RatingDist5'] == df['RatingDist5'].max()]"
   ]
  },
  {
   "cell_type": "markdown",
   "metadata": {},
   "source": [
    "Цікаво, яку кількість оцінок вона має по кожному балу, тому візуалізуємо."
   ]
  },
  {
   "cell_type": "code",
   "execution_count": 17,
   "metadata": {},
   "outputs": [],
   "source": [
    "rowling_list = []\n",
    "author = 'J.K. Rowling'\n",
    "\n",
    "for i in range(1, 6):\n",
    "    rating_dist = f'RatingDist{i}'\n",
    "    rowling_list.append(df.loc[df['Authors'] == author, rating_dist].sum())"
   ]
  },
  {
   "cell_type": "code",
   "execution_count": 25,
   "metadata": {},
   "outputs": [
    {
     "data": {
      "image/png": "[encoded data removed]",
      "text/plain": [
       "<Figure size 640x480 with 1 Axes>"
      ]
     },
     "metadata": {},
     "output_type": "display_data"
    }
   ],
   "source": [
    "labels = [\"Rating_1\", \"Rating_2\", \"Rating_3\", \"Rating_4\", \"Rating_5\"]\n",
    "explode = (0, 0.2, 0, 0, 0)\n",
    "\n",
    "plt.pie(rowling_list, explode=explode, labels = labels, autopct='%1.1f%%')\n",
    "plt.show()"
   ]
  },
  {
   "cell_type": "markdown",
   "metadata": {},
   "source": [
    "4. В якому році видано найбільше книг?"
   ]
  },
  {
   "cell_type": "code",
   "execution_count": 22,
   "metadata": {},
   "outputs": [
    {
     "data": {
      "text/plain": [
       "2006"
      ]
     },
     "execution_count": 22,
     "metadata": {},
     "output_type": "execute_result"
    }
   ],
   "source": [
    "df['PublishYear'].value_counts().idxmax()"
   ]
  },
  {
   "cell_type": "markdown",
   "metadata": {},
   "source": [
    "Подивимось яка тенденція к-сть книг за роки."
   ]
  },
  {
   "cell_type": "code",
   "execution_count": 26,
   "metadata": {},
   "outputs": [
    {
     "data": {
      "image/png": "[encoded data removed]",
      "text/plain": [
       "<Figure size 640x480 with 1 Axes>"
      ]
     },
     "metadata": {},
     "output_type": "display_data"
    }
   ],
   "source": [
    "df.groupby('PublishYear')['Id'].count().plot()\n",
    "plt.show()"
   ]
  },
  {
   "cell_type": "markdown",
   "metadata": {},
   "source": [
    "Детальніше розглянемо діапазон з 1985 по 2010."
   ]
  },
  {
   "cell_type": "code",
   "execution_count": 215,
   "metadata": {},
   "outputs": [
    {
     "data": {
      "image/png": "[encoded data removed]",
      "text/plain": [
       "<Figure size 640x480 with 1 Axes>"
      ]
     },
     "metadata": {},
     "output_type": "display_data"
    }
   ],
   "source": [
    "df[(1985 < df['PublishYear']) & (df['PublishYear'] < 2010)].groupby('PublishYear')['Id'].count().plot()\n",
    "plt.show()"
   ]
  },
  {
   "cell_type": "markdown",
   "metadata": {},
   "source": [
    "Бачимо нашу початкову відповідь вілуально."
   ]
  },
  {
   "cell_type": "markdown",
   "metadata": {},
   "source": [
    "5. Яке видавницто видало найбільше книг?"
   ]
  },
  {
   "cell_type": "code",
   "execution_count": 163,
   "metadata": {},
   "outputs": [
    {
     "data": {
      "text/plain": [
       "'Routledge'"
      ]
     },
     "execution_count": 163,
     "metadata": {},
     "output_type": "execute_result"
    }
   ],
   "source": [
    "df['Publisher'].value_counts().idxmax()"
   ]
  },
  {
   "cell_type": "markdown",
   "metadata": {},
   "source": [
    "Візуально подивимось топ 7 видавництв за кількістю виданих книг."
   ]
  },
  {
   "cell_type": "code",
   "execution_count": 164,
   "metadata": {},
   "outputs": [
    {
     "data": {
      "image/png": "[encoded data removed]",
      "text/plain": [
       "<Figure size 640x480 with 1 Axes>"
      ]
     },
     "metadata": {},
     "output_type": "display_data"
    }
   ],
   "source": [
    "df.groupby('Publisher')['Name'].count().sort_values(ascending = False).head(7).plot(kind='bar')\n",
    "plt.show()"
   ]
  },
  {
   "cell_type": "markdown",
   "metadata": {},
   "source": [
    "Бачимо, що перші 3 мають не дуже велику різницю між собою. Подивимось їх тенденцію з роками."
   ]
  },
  {
   "cell_type": "code",
   "execution_count": 170,
   "metadata": {},
   "outputs": [
    {
     "data": {
      "image/png": "[encoded data removed]",
      "text/plain": [
       "<Figure size 640x480 with 1 Axes>"
      ]
     },
     "metadata": {},
     "output_type": "display_data"
    }
   ],
   "source": [
    "df_publisher = df['Publisher'].value_counts().head(3)\n",
    "\n",
    "for publisher in df_publisher.index:\n",
    "    df[df['Publisher'] == publisher].groupby('PublishYear')['Id'].count().plot()\n",
    "\n",
    "plt.legend(labels=df_publisher.index)\n",
    "plt.show()"
   ]
  },
  {
   "cell_type": "markdown",
   "metadata": {},
   "source": [
    "6. Чи впливає к-сть сторінок на рейтинг книг?"
   ]
  },
  {
   "cell_type": "code",
   "execution_count": 199,
   "metadata": {},
   "outputs": [
    {
     "data": {
      "text/html": [
       "<div>\n",
       "<style scoped>\n",
       "    .dataframe tbody tr th:only-of-type {\n",
       "        vertical-align: middle;\n",
       "    }\n",
       "\n",
       "    .dataframe tbody tr th {\n",
       "        vertical-align: top;\n",
       "    }\n",
       "\n",
       "    .dataframe thead th {\n",
       "        text-align: right;\n",
       "    }\n",
       "</style>\n",
       "<table border=\"1\" class=\"dataframe\">\n",
       "  <thead>\n",
       "    <tr style=\"text-align: right;\">\n",
       "      <th></th>\n",
       "      <th>RatingDistTotal</th>\n",
       "      <th>RatingDist1</th>\n",
       "      <th>RatingDist2</th>\n",
       "      <th>RatingDist3</th>\n",
       "      <th>RatingDist4</th>\n",
       "      <th>RatingDist5</th>\n",
       "      <th>CountsOfReview</th>\n",
       "      <th>pagesNumber</th>\n",
       "    </tr>\n",
       "  </thead>\n",
       "  <tbody>\n",
       "    <tr>\n",
       "      <th>RatingDistTotal</th>\n",
       "      <td>1.000000</td>\n",
       "      <td>0.791946</td>\n",
       "      <td>0.840996</td>\n",
       "      <td>0.922982</td>\n",
       "      <td>0.985970</td>\n",
       "      <td>0.967541</td>\n",
       "      <td>0.194007</td>\n",
       "      <td>0.001346</td>\n",
       "    </tr>\n",
       "    <tr>\n",
       "      <th>RatingDist1</th>\n",
       "      <td>0.791946</td>\n",
       "      <td>1.000000</td>\n",
       "      <td>0.944191</td>\n",
       "      <td>0.869208</td>\n",
       "      <td>0.794664</td>\n",
       "      <td>0.672274</td>\n",
       "      <td>0.215886</td>\n",
       "      <td>0.000985</td>\n",
       "    </tr>\n",
       "    <tr>\n",
       "      <th>RatingDist2</th>\n",
       "      <td>0.840996</td>\n",
       "      <td>0.944191</td>\n",
       "      <td>1.000000</td>\n",
       "      <td>0.966690</td>\n",
       "      <td>0.877768</td>\n",
       "      <td>0.689252</td>\n",
       "      <td>0.207776</td>\n",
       "      <td>0.000943</td>\n",
       "    </tr>\n",
       "    <tr>\n",
       "      <th>RatingDist3</th>\n",
       "      <td>0.922982</td>\n",
       "      <td>0.869208</td>\n",
       "      <td>0.966690</td>\n",
       "      <td>1.000000</td>\n",
       "      <td>0.960063</td>\n",
       "      <td>0.797208</td>\n",
       "      <td>0.200732</td>\n",
       "      <td>0.001027</td>\n",
       "    </tr>\n",
       "    <tr>\n",
       "      <th>RatingDist4</th>\n",
       "      <td>0.985970</td>\n",
       "      <td>0.794664</td>\n",
       "      <td>0.877768</td>\n",
       "      <td>0.960063</td>\n",
       "      <td>1.000000</td>\n",
       "      <td>0.918834</td>\n",
       "      <td>0.196873</td>\n",
       "      <td>0.001311</td>\n",
       "    </tr>\n",
       "    <tr>\n",
       "      <th>RatingDist5</th>\n",
       "      <td>0.967541</td>\n",
       "      <td>0.672274</td>\n",
       "      <td>0.689252</td>\n",
       "      <td>0.797208</td>\n",
       "      <td>0.918834</td>\n",
       "      <td>1.000000</td>\n",
       "      <td>0.170804</td>\n",
       "      <td>0.001397</td>\n",
       "    </tr>\n",
       "    <tr>\n",
       "      <th>CountsOfReview</th>\n",
       "      <td>0.194007</td>\n",
       "      <td>0.215886</td>\n",
       "      <td>0.207776</td>\n",
       "      <td>0.200732</td>\n",
       "      <td>0.196873</td>\n",
       "      <td>0.170804</td>\n",
       "      <td>1.000000</td>\n",
       "      <td>0.001323</td>\n",
       "    </tr>\n",
       "    <tr>\n",
       "      <th>pagesNumber</th>\n",
       "      <td>0.001346</td>\n",
       "      <td>0.000985</td>\n",
       "      <td>0.000943</td>\n",
       "      <td>0.001027</td>\n",
       "      <td>0.001311</td>\n",
       "      <td>0.001397</td>\n",
       "      <td>0.001323</td>\n",
       "      <td>1.000000</td>\n",
       "    </tr>\n",
       "  </tbody>\n",
       "</table>\n",
       "</div>"
      ],
      "text/plain": [
       "                 RatingDistTotal  RatingDist1  RatingDist2  RatingDist3  \\\n",
       "RatingDistTotal         1.000000     0.791946     0.840996     0.922982   \n",
       "RatingDist1             0.791946     1.000000     0.944191     0.869208   \n",
       "RatingDist2             0.840996     0.944191     1.000000     0.966690   \n",
       "RatingDist3             0.922982     0.869208     0.966690     1.000000   \n",
       "RatingDist4             0.985970     0.794664     0.877768     0.960063   \n",
       "RatingDist5             0.967541     0.672274     0.689252     0.797208   \n",
       "CountsOfReview          0.194007     0.215886     0.207776     0.200732   \n",
       "pagesNumber             0.001346     0.000985     0.000943     0.001027   \n",
       "\n",
       "                 RatingDist4  RatingDist5  CountsOfReview  pagesNumber  \n",
       "RatingDistTotal     0.985970     0.967541        0.194007     0.001346  \n",
       "RatingDist1         0.794664     0.672274        0.215886     0.000985  \n",
       "RatingDist2         0.877768     0.689252        0.207776     0.000943  \n",
       "RatingDist3         0.960063     0.797208        0.200732     0.001027  \n",
       "RatingDist4         1.000000     0.918834        0.196873     0.001311  \n",
       "RatingDist5         0.918834     1.000000        0.170804     0.001397  \n",
       "CountsOfReview      0.196873     0.170804        1.000000     0.001323  \n",
       "pagesNumber         0.001311     0.001397        0.001323     1.000000  "
      ]
     },
     "execution_count": 199,
     "metadata": {},
     "output_type": "execute_result"
    }
   ],
   "source": [
    "df[['RatingDistTotal', 'RatingDist1', 'RatingDist2', 'RatingDist3', 'RatingDist4', 'RatingDist5', 'CountsOfReview', 'pagesNumber']].corr()"
   ]
  },
  {
   "cell_type": "markdown",
   "metadata": {},
   "source": [
    "Бачимо, що ні, не впливає."
   ]
  },
  {
   "cell_type": "markdown",
   "metadata": {},
   "source": [
    "7. Розподілення рейтингу (візуалізація - ящик з \"вусами\")."
   ]
  },
  {
   "cell_type": "code",
   "execution_count": 178,
   "metadata": {},
   "outputs": [
    {
     "data": {
      "image/png": "[encoded data removed]",
      "text/plain": [
       "<Figure size 640x480 with 1 Axes>"
      ]
     },
     "metadata": {},
     "output_type": "display_data"
    }
   ],
   "source": [
    "plt.boxplot(df['Rating'])\n",
    "plt.xlabel('Rating')\n",
    "plt.show()"
   ]
  },
  {
   "cell_type": "markdown",
   "metadata": {},
   "source": [
    "Бачимо багато викидів. Подивимось, скільки книг маю рейтинг нижче за оцінку 2.5."
   ]
  },
  {
   "cell_type": "code",
   "execution_count": 27,
   "metadata": {},
   "outputs": [
    {
     "data": {
      "text/plain": [
       "74033"
      ]
     },
     "execution_count": 27,
     "metadata": {},
     "output_type": "execute_result"
    }
   ],
   "source": [
    "df['Id'][df['Rating'] < 2.5].count()"
   ]
  },
  {
   "cell_type": "markdown",
   "metadata": {},
   "source": [
    "Тому на графіку і бачимо таку к-сть викидів. Порахуємо який це відсоток."
   ]
  },
  {
   "cell_type": "code",
   "execution_count": 28,
   "metadata": {},
   "outputs": [
    {
     "name": "stdout",
     "output_type": "stream",
     "text": [
      "11.94%\n"
     ]
    }
   ],
   "source": [
    "per = (df['Id'][df['Rating'] < 2.5].count() / df['Id'].count())*100\n",
    "print(f\"{per:.2f}%\")"
   ]
  },
  {
   "cell_type": "markdown",
   "metadata": {},
   "source": [
    "Дось викосий відсоток."
   ]
  }
 ],
 "metadata": {
  "kernelspec": {
   "display_name": "Python 3.11.4 64-bit",
   "language": "python",
   "name": "python3"
  },
  "language_info": {
   "codemirror_mode": {
    "name": "ipython",
    "version": 3
   },
   "file_extension": ".py",
   "mimetype": "text/x-python",
   "name": "python",
   "nbconvert_exporter": "python",
   "pygments_lexer": "ipython3",
   "version": "3.11.4"
  },
  "orig_nbformat": 4,
  "vscode": {
   "interpreter": {
    "hash": "de47f5c92c0ee6f12a59a5613ac5feff6aab19ddff207ba0b3964cced08c4ccc"
   }
  }
 },
 "nbformat": 4,
 "nbformat_minor": 2
}
