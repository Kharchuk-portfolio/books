{
 "cells": [
  {
   "cell_type": "markdown",
   "metadata": {},
   "source": [
    "# Робота з файлами"
   ]
  },
  {
   "cell_type": "markdown",
   "metadata": {},
   "source": [
    "Імпорт необхідних бібіліотек"
   ]
  },
  {
   "cell_type": "code",
   "execution_count": 1,
   "metadata": {},
   "outputs": [],
   "source": [
    "import pandas as pd"
   ]
  },
  {
   "cell_type": "markdown",
   "metadata": {},
   "source": [
    "Читання файлів\n"
   ]
  },
  {
   "cell_type": "code",
   "execution_count": 2,
   "metadata": {},
   "outputs": [],
   "source": [
    "files_list = ['book1-100k', 'book100k-200k', 'book200k-300k', 'book300k-400k', 'book400k-500k', 'book500k-600k', 'book600k-700k', 'book700k-800k', 'book800k-900k', 'book900k-1000k', 'book1000k-1100k', 'book1100k-1200k']\n",
    "dataframes = []\n",
    "\n",
    "for file in files_list:\n",
    "    filename = f'books/{file}.csv'\n",
    "    df = pd.read_csv(filename)\n",
    "    dataframes.append(df)\n",
    "\n",
    "df = pd.concat(dataframes)"
   ]
  },
  {
   "cell_type": "markdown",
   "metadata": {},
   "source": [
    "Встановлення необхідної послідовності"
   ]
  },
  {
   "cell_type": "code",
   "execution_count": 3,
   "metadata": {},
   "outputs": [],
   "source": [
    "columns_list = ['Name',  'ISBN', 'Authors', 'Language', 'pagesNumber', 'PublishYear', 'PublishMonth', 'PublishDay', 'Publisher', 'CountsOfReview', 'RatingDist1', 'RatingDist2', 'RatingDist3', 'RatingDist4', 'RatingDist5', 'RatingDistTotal', 'Rating']\n",
    "\n",
    "df = df[columns_list]"
   ]
  },
  {
   "cell_type": "markdown",
   "metadata": {},
   "source": [
    "Вставлення id книги"
   ]
  },
  {
   "cell_type": "code",
   "execution_count": 6,
   "metadata": {},
   "outputs": [],
   "source": [
    "df.insert(0, \"Id\", (df.index + 1).astype(str))"
   ]
  },
  {
   "cell_type": "markdown",
   "metadata": {},
   "source": [
    "Інформація про новий датасет"
   ]
  },
  {
   "cell_type": "code",
   "execution_count": 7,
   "metadata": {},
   "outputs": [
    {
     "name": "stdout",
     "output_type": "stream",
     "text": [
      "<class 'pandas.core.frame.DataFrame'>\n",
      "Index: 619879 entries, 0 to 41891\n",
      "Data columns (total 18 columns):\n",
      " #   Column           Non-Null Count   Dtype  \n",
      "---  ------           --------------   -----  \n",
      " 0   Id               619879 non-null  object \n",
      " 1   Name             619879 non-null  object \n",
      " 2   ISBN             617521 non-null  object \n",
      " 3   Authors          619879 non-null  object \n",
      " 4   Language         126335 non-null  object \n",
      " 5   pagesNumber      619879 non-null  int64  \n",
      " 6   PublishYear      619879 non-null  int64  \n",
      " 7   PublishMonth     619879 non-null  int64  \n",
      " 8   PublishDay       619879 non-null  int64  \n",
      " 9   Publisher        614081 non-null  object \n",
      " 10  CountsOfReview   619879 non-null  int64  \n",
      " 11  RatingDist1      619879 non-null  object \n",
      " 12  RatingDist2      619879 non-null  object \n",
      " 13  RatingDist3      619879 non-null  object \n",
      " 14  RatingDist4      619879 non-null  object \n",
      " 15  RatingDist5      619879 non-null  object \n",
      " 16  RatingDistTotal  619879 non-null  object \n",
      " 17  Rating           619879 non-null  float64\n",
      "dtypes: float64(1), int64(5), object(12)\n",
      "memory usage: 89.9+ MB\n"
     ]
    },
    {
     "data": {
      "text/plain": [
       "(619879, 18)"
      ]
     },
     "execution_count": 7,
     "metadata": {},
     "output_type": "execute_result"
    }
   ],
   "source": [
    "df.info()\n",
    "df.shape"
   ]
  },
  {
   "cell_type": "markdown",
   "metadata": {},
   "source": [
    "Запис до нового файлу\n"
   ]
  },
  {
   "cell_type": "code",
   "execution_count": 8,
   "metadata": {},
   "outputs": [],
   "source": [
    "df.to_csv('books.csv', index=False)"
   ]
  }
 ],
 "metadata": {
  "kernelspec": {
   "display_name": "Python 3.11.4 64-bit",
   "language": "python",
   "name": "python3"
  },
  "language_info": {
   "codemirror_mode": {
    "name": "ipython",
    "version": 3
   },
   "file_extension": ".py",
   "mimetype": "text/x-python",
   "name": "python",
   "nbconvert_exporter": "python",
   "pygments_lexer": "ipython3",
   "version": "3.11.4"
  },
  "orig_nbformat": 4,
  "vscode": {
   "interpreter": {
    "hash": "de47f5c92c0ee6f12a59a5613ac5feff6aab19ddff207ba0b3964cced08c4ccc"
   }
  }
 },
 "nbformat": 4,
 "nbformat_minor": 2
}
